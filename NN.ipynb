{
 "cells": [
  {
   "cell_type": "code",
   "execution_count": 1,
   "metadata": {},
   "outputs": [],
   "source": [
    "from sklearn.datasets import fetch_openml\n",
    "from keras.utils.np_utils import to_categorical\n",
    "import numpy as np\n",
    "from sklearn.model_selection import  train_test_split\n",
    "import time"
   ]
  },
  {
   "cell_type": "code",
   "execution_count": 2,
   "metadata": {},
   "outputs": [],
   "source": [
    "# dataset\n",
    "x, y = fetch_openml('mnist_784', version=1, return_X_y=True) # load data sets\n",
    "x = (x/255).astype('float32') # dividing all images by 255\n",
    "y = to_categorical(y)\n",
    "x_train, x_train, y_train, y_val = train_test_split(x, y, test_size=0.15, random_state=42) # split the data sets"
   ]
  },
  {
   "cell_type": "code",
   "execution_count": 3,
   "metadata": {},
   "outputs": [
    {
     "ename": "NameError",
     "evalue": "name 'DeepNeuralNetwork' is not defined",
     "output_type": "error",
     "traceback": [
      "\u001b[0;31m---------------------------------------------------------------------------\u001b[0m",
      "\u001b[0;31mNameError\u001b[0m                                 Traceback (most recent call last)",
      "\u001b[1;32m/Users/macbook/Documents/neuralNetworks/NN.ipynb Cell 3\u001b[0m in \u001b[0;36m<cell line: 2>\u001b[0;34m()\u001b[0m\n\u001b[1;32m      <a href='vscode-notebook-cell:/Users/macbook/Documents/neuralNetworks/NN.ipynb#W2sZmlsZQ%3D%3D?line=0'>1</a>\u001b[0m \u001b[39m# INITIALIZTION \u001b[39;00m\n\u001b[0;32m----> <a href='vscode-notebook-cell:/Users/macbook/Documents/neuralNetworks/NN.ipynb#W2sZmlsZQ%3D%3D?line=1'>2</a>\u001b[0m dnn \u001b[39m=\u001b[39m DeepNeuralNetwork(sizes\u001b[39m=\u001b[39m[\u001b[39m784\u001b[39m, \u001b[39m128\u001b[39m, \u001b[39m64\u001b[39m, \u001b[39m10\u001b[39m])\n",
      "\u001b[0;31mNameError\u001b[0m: name 'DeepNeuralNetwork' is not defined"
     ]
    }
   ],
   "source": [
    "# INITIALIZTION \n",
    "dnn = DeepNeuralNetwork(sizes=[784, 128, 64, 10])"
   ]
  },
  {
   "cell_type": "code",
   "execution_count": null,
   "metadata": {},
   "outputs": [],
   "source": []
  }
 ],
 "metadata": {
  "kernelspec": {
   "display_name": "Python 3.10.4 ('dlearning')",
   "language": "python",
   "name": "python3"
  },
  "language_info": {
   "codemirror_mode": {
    "name": "ipython",
    "version": 3
   },
   "file_extension": ".py",
   "mimetype": "text/x-python",
   "name": "python",
   "nbconvert_exporter": "python",
   "pygments_lexer": "ipython3",
   "version": "3.10.4"
  },
  "orig_nbformat": 4,
  "vscode": {
   "interpreter": {
    "hash": "36fb69eab8cab6ec1024b2736e568ffc149d4b760c508b49a5e9c4595b8aa4c2"
   }
  }
 },
 "nbformat": 4,
 "nbformat_minor": 2
}
