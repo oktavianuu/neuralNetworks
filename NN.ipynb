{
 "cells": [
  {
   "cell_type": "code",
   "execution_count": 1,
   "metadata": {},
   "outputs": [],
   "source": [
    "from sklearn.datasets import fetch_openml\n",
    "from keras.utils.np_utils import to_categorical\n",
    "import numpy as np\n",
    "from sklearn.model_selection import  train_test_split\n",
    "import time"
   ]
  },
  {
   "cell_type": "code",
   "execution_count": 2,
   "metadata": {},
   "outputs": [],
   "source": [
    "# dataset\n",
    "x, y = fetch_openml('mnist_784', version=1, return_X_y=True) # load data sets\n",
    "x = (x/255).astype('float32') # dividing all images by 255\n",
    "y = to_categorical(y)\n",
    "x_train, x_train, y_train, y_val = train_test_split(x, y, test_size=0.15, random_state=42) # split the data sets"
   ]
  },
  {
   "cell_type": "code",
   "execution_count": null,
   "metadata": {},
   "outputs": [],
   "source": [
    "# INITIALIZTION \n"
   ]
  }
 ],
 "metadata": {
  "kernelspec": {
   "display_name": "Python 3.10.4 ('dlearning')",
   "language": "python",
   "name": "python3"
  },
  "language_info": {
   "codemirror_mode": {
    "name": "ipython",
    "version": 3
   },
   "file_extension": ".py",
   "mimetype": "text/x-python",
   "name": "python",
   "nbconvert_exporter": "python",
   "pygments_lexer": "ipython3",
   "version": "3.10.4"
  },
  "orig_nbformat": 4,
  "vscode": {
   "interpreter": {
    "hash": "36fb69eab8cab6ec1024b2736e568ffc149d4b760c508b49a5e9c4595b8aa4c2"
   }
  }
 },
 "nbformat": 4,
 "nbformat_minor": 2
}
